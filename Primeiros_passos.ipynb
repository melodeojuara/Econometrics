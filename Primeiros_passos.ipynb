{
  "nbformat": 4,
  "nbformat_minor": 0,
  "metadata": {
    "colab": {
      "provenance": [],
      "authorship_tag": "ABX9TyOGF8j3BFe5IGOehuAVSn9v",
      "include_colab_link": true
    },
    "kernelspec": {
      "name": "python3",
      "display_name": "Python 3"
    },
    "language_info": {
      "name": "python"
    }
  },
  "cells": [
    {
      "cell_type": "markdown",
      "metadata": {
        "id": "view-in-github",
        "colab_type": "text"
      },
      "source": [
        "<a href=\"https://colab.research.google.com/github/melodeojuara/Econometrics/blob/main/Primeiros_passos.ipynb\" target=\"_parent\"><img src=\"https://colab.research.google.com/assets/colab-badge.svg\" alt=\"Open In Colab\"/></a>"
      ]
    },
    {
      "cell_type": "markdown",
      "source": [
        "#Resumo / construção de vocabulário.\n",
        "  Para iniciar, precisamos relembrar alguns conceitos de estatística.\n",
        "Com esse objetivo, importaremos a tabela 5938 do SIDRA/IBGE que contem informações sobre o PIB dos municípios. Nela vamos realizar uma série de medições estatísticas e discutiremos sobre os resultados.\n"
      ],
      "metadata": {
        "id": "Pc51VZetm0dQ"
      }
    },
    {
      "cell_type": "code",
      "source": [
        "!pip install sidrapy"
      ],
      "metadata": {
        "id": "s92VHdeTo2B3"
      },
      "execution_count": null,
      "outputs": []
    },
    {
      "cell_type": "code",
      "execution_count": 5,
      "metadata": {
        "id": "SBzPQmysdJzo"
      },
      "outputs": [],
      "source": [
        "import sidrapy\n",
        "import pandas as pd"
      ]
    },
    {
      "cell_type": "code",
      "source": [
        "dados = sidrapy.get_table(\n",
        "    table_code = '5938',\n",
        "    territorial_level = '6',\n",
        "    ibge_territorial_code= 'all',\n",
        "    period = 'last 1',\n",
        "    variable = '37'\n",
        ")\n",
        "tabela = (((pd.DataFrame(dados,)[['D1N','V']])[1:]).set_index('D1N')).astype(int)"
      ],
      "metadata": {
        "id": "rvlFKt8HpIDw"
      },
      "execution_count": 87,
      "outputs": []
    },
    {
      "cell_type": "markdown",
      "source": [
        "Agora que a tabela foi importada e filtramos as colunas que queremos trabalhar, \n",
        "podemos trabalhar matemáticamente com os valores que estão contidos nela."
      ],
      "metadata": {
        "id": "xb2f5nZZrr0X"
      }
    },
    {
      "cell_type": "markdown",
      "source": [
        "#A.1 Operadores somatório e de produto\n",
        "A letra maiúscula grega (sigma) é utilizada para indicar somatório. Assim, todos os elementos contidos na função são somados ao total. Em nosso caso teremos um valor total que representa o PIB do país.\n",
        "A fórmula do somatório pode ser escrita como um Loop em python. Para cada valor na lista, soma-se ao total."
      ],
      "metadata": {
        "id": "Tw6tJ6IPvw_-"
      }
    },
    {
      "cell_type": "code",
      "source": [
        "x = 0\n",
        "for i in tabela['V']:\n",
        "  x += i\n",
        "print(f'O PIB do Brasil em 2020 foi: {x} reais')"
      ],
      "metadata": {
        "id": "YFIsD9-EyD7q",
        "outputId": "3f49f450-c87d-476b-cd7c-31f5f387a1ea",
        "colab": {
          "base_uri": "https://localhost:8080/"
        }
      },
      "execution_count": 115,
      "outputs": [
        {
          "output_type": "stream",
          "name": "stdout",
          "text": [
            "O PIB do Brasil em 2020 foi: 7609597019 reais\n"
          ]
        }
      ]
    }
  ]
}